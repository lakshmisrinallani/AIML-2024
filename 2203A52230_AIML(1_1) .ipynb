{
  "nbformat": 4,
  "nbformat_minor": 0,
  "metadata": {
    "colab": {
      "provenance": []
    },
    "kernelspec": {
      "name": "python3",
      "display_name": "Python 3"
    },
    "language_info": {
      "name": "python"
    }
  },
  "cells": [
    {
      "cell_type": "code",
      "execution_count": null,
      "metadata": {
        "colab": {
          "base_uri": "https://localhost:8080/"
        },
        "id": "LiW7wuuuE4Ev",
        "outputId": "1319bde6-ec3e-4777-fb06-5b6d7cb71d07"
      },
      "outputs": [
        {
          "output_type": "stream",
          "name": "stdout",
          "text": [
            "list= [4, 5, 6, 7]\n",
            "array= [4 5 6 7]\n"
          ]
        }
      ],
      "source": [
        "import numpy as np\n",
        "list1=[4,5,6,7]\n",
        "array1=np.array(list1)\n",
        "print(\"list=\",list1)\n",
        "print(\"array=\",array1)\n"
      ]
    },
    {
      "cell_type": "code",
      "source": [
        "print(\"type of list1:\",type(list1))\n",
        "print(\"type of array1:\",type(array1))"
      ],
      "metadata": {
        "colab": {
          "base_uri": "https://localhost:8080/"
        },
        "id": "39Vbpm_aIz-Q",
        "outputId": "1d2be272-2d04-4491-cafc-9228326396db"
      },
      "execution_count": null,
      "outputs": [
        {
          "output_type": "stream",
          "name": "stdout",
          "text": [
            "type of list1: <class 'list'>\n",
            "type of array1: <class 'numpy.ndarray'>\n"
          ]
        }
      ]
    },
    {
      "cell_type": "code",
      "source": [
        "a1=[5,6,7,8]\n",
        "a2=[1,5,6,9]\n",
        "a=np.add(a1,a2)\n",
        "print(a)\n",
        "s=np.subtract(a1,a2)\n",
        "print(s)\n",
        "m=np.multiply(a1,a2)\n",
        "print(m)\n",
        "d=np.divide(a1,a2)\n",
        "print(d)\n",
        "p=np.power(a1,a2)\n",
        "print(p)"
      ],
      "metadata": {
        "colab": {
          "base_uri": "https://localhost:8080/"
        },
        "id": "RGp5vSOjKS3O",
        "outputId": "30964137-7ebf-43e8-f1c8-6a8e13f28983"
      },
      "execution_count": null,
      "outputs": [
        {
          "output_type": "stream",
          "name": "stdout",
          "text": [
            "[ 6 11 13 17]\n",
            "[ 4  1  1 -1]\n",
            "[ 5 30 42 72]\n",
            "[5.         1.2        1.16666667 0.88888889]\n",
            "[        5      7776    117649 134217728]\n"
          ]
        }
      ]
    },
    {
      "cell_type": "code",
      "source": [
        "n1=input()\n",
        "n2=input()\n",
        "n=np.char.add(n1,n2)\n",
        "print(n)"
      ],
      "metadata": {
        "colab": {
          "base_uri": "https://localhost:8080/"
        },
        "id": "F3gO9WrBLspM",
        "outputId": "d2256214-1c38-4873-a5e9-95ace3d83f30"
      },
      "execution_count": null,
      "outputs": [
        {
          "output_type": "stream",
          "name": "stdout",
          "text": [
            "abc\n",
            "def\n",
            "abcdef\n"
          ]
        }
      ]
    },
    {
      "cell_type": "code",
      "source": [
        "\n",
        "#  sin\n",
        "x = np.pi / 4\n",
        "sin_result = np.sin(x)\n",
        "print(\"sin(x):\",sin_result)\n",
        "\n",
        "#log\n",
        "x = 10\n",
        "log_result = np.log(x)\n",
        "print(\"log(x):\",log_result)\n",
        "\n",
        "#log2\n",
        "x = 16\n",
        "log2_result = np.log2(x)\n",
        "print(\"log2(x):\",log2_result)\n",
        "\n",
        "#exp\n",
        "x = 2\n",
        "exp_result = np.exp(x)\n",
        "print(\"exp(x):\",exp_result)"
      ],
      "metadata": {
        "colab": {
          "base_uri": "https://localhost:8080/"
        },
        "id": "rZjnf7CYN-GD",
        "outputId": "66dc13fd-31fa-4d30-a06a-a4f166875b3d"
      },
      "execution_count": null,
      "outputs": [
        {
          "output_type": "stream",
          "name": "stdout",
          "text": [
            "sin(x): 0.7071067811865475\n",
            "log(x): 2.302585092994046\n",
            "log2(x): 4.0\n",
            "exp(x): 7.38905609893065\n"
          ]
        }
      ]
    }
  ]
}